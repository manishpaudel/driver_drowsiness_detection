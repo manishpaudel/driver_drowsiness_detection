{
 "cells": [
  {
   "cell_type": "code",
   "execution_count": 22,
   "metadata": {},
   "outputs": [
    {
     "name": "stdout",
     "output_type": "stream",
     "text": [
      "Found 173254 images belonging to 2 classes.\n"
     ]
    }
   ],
   "source": [
    "# Import packages and set numpy random seed\n",
    "import numpy as np\n",
    "np.random.seed(5) \n",
    "import cv2\n",
    "\n",
    "from tensorflow.keras.preprocessing.image import ImageDataGenerator\n",
    "\n",
    "\n",
    "import matplotlib.pyplot as plt\n",
    "%matplotlib inline\n",
    "\n",
    "test_datagen = ImageDataGenerator(rescale=1./255)\n",
    "\n",
    "test_generator = test_datagen.flow_from_directory(\n",
    "    '../../ddd_images_test/all',\n",
    "    target_size=(128, 128),\n",
    "    batch_size=16,\n",
    "    shuffle=True,\n",
    "    class_mode='binary')\n"
   ]
  },
  {
   "cell_type": "code",
   "execution_count": 23,
   "metadata": {},
   "outputs": [
    {
     "name": "stdout",
     "output_type": "stream",
     "text": [
      "[name: \"/device:CPU:0\"\n",
      "device_type: \"CPU\"\n",
      "memory_limit: 268435456\n",
      "locality {\n",
      "}\n",
      "incarnation: 538050346434174120\n",
      ", name: \"/device:GPU:0\"\n",
      "device_type: \"GPU\"\n",
      "memory_limit: 3173331764\n",
      "locality {\n",
      "  bus_id: 1\n",
      "  links {\n",
      "  }\n",
      "}\n",
      "incarnation: 198285356454358334\n",
      "physical_device_desc: \"device: 0, name: NVIDIA GeForce GTX 960M, pci bus id: 0000:02:00.0, compute capability: 5.0\"\n",
      "]\n"
     ]
    }
   ],
   "source": [
    "#for GPU training\n",
    "import tensorflow as tf\n",
    "from tensorflow.python.client import device_lib\n",
    "print(device_lib.list_local_devices())\n",
    "\n",
    "\n",
    "config = tf.compat.v1.ConfigProto(gpu_options = \n",
    "                         tf.compat.v1.GPUOptions(per_process_gpu_memory_fraction=0.33)\n",
    "# device_count = {'GPU': 1}\n",
    ")\n",
    "config.gpu_options.allow_growth = True\n",
    "session = tf.compat.v1.Session(config=config)\n",
    "tf.compat.v1.keras.backend.set_session(session)"
   ]
  },
  {
   "cell_type": "code",
   "execution_count": 24,
   "metadata": {},
   "outputs": [
    {
     "name": "stdout",
     "output_type": "stream",
     "text": [
      "Model: \"sequential_6\"\n",
      "_________________________________________________________________\n",
      "Layer (type)                 Output Shape              Param #   \n",
      "=================================================================\n",
      "conv2d_33 (Conv2D)           (None, 128, 128, 32)      2432      \n",
      "_________________________________________________________________\n",
      "batch_normalization_32 (Batc (None, 128, 128, 32)      128       \n",
      "_________________________________________________________________\n",
      "max_pooling2d_31 (MaxPooling (None, 64, 64, 32)        0         \n",
      "_________________________________________________________________\n",
      "conv2d_34 (Conv2D)           (None, 64, 64, 32)        25632     \n",
      "_________________________________________________________________\n",
      "batch_normalization_33 (Batc (None, 64, 64, 32)        128       \n",
      "_________________________________________________________________\n",
      "max_pooling2d_32 (MaxPooling (None, 32, 32, 32)        0         \n",
      "_________________________________________________________________\n",
      "dropout_14 (Dropout)         (None, 32, 32, 32)        0         \n",
      "_________________________________________________________________\n",
      "conv2d_35 (Conv2D)           (None, 32, 32, 16)        12816     \n",
      "_________________________________________________________________\n",
      "batch_normalization_34 (Batc (None, 32, 32, 16)        64        \n",
      "_________________________________________________________________\n",
      "max_pooling2d_33 (MaxPooling (None, 16, 16, 16)        0         \n",
      "_________________________________________________________________\n",
      "conv2d_36 (Conv2D)           (None, 16, 16, 8)         3208      \n",
      "_________________________________________________________________\n",
      "batch_normalization_35 (Batc (None, 16, 16, 8)         32        \n",
      "_________________________________________________________________\n",
      "max_pooling2d_34 (MaxPooling (None, 8, 8, 8)           0         \n",
      "_________________________________________________________________\n",
      "dropout_15 (Dropout)         (None, 8, 8, 8)           0         \n",
      "_________________________________________________________________\n",
      "conv2d_37 (Conv2D)           (None, 8, 8, 4)           804       \n",
      "_________________________________________________________________\n",
      "batch_normalization_36 (Batc (None, 8, 8, 4)           16        \n",
      "_________________________________________________________________\n",
      "max_pooling2d_35 (MaxPooling (None, 4, 4, 4)           0         \n",
      "_________________________________________________________________\n",
      "flatten_7 (Flatten)          (None, 64)                0         \n",
      "_________________________________________________________________\n",
      "dense_6 (Dense)              (None, 1)                 65        \n",
      "=================================================================\n",
      "Total params: 45,325\n",
      "Trainable params: 45,141\n",
      "Non-trainable params: 184\n",
      "_________________________________________________________________\n"
     ]
    }
   ],
   "source": [
    "import keras\n",
    "from keras.layers import Conv2D, MaxPooling2D, GlobalAveragePooling2D\n",
    "from keras.layers import Flatten, Dense, Dropout, BatchNormalization, Reshape, Permute, Multiply, Input, Activation\n",
    "from keras.models import Sequential, Model\n",
    "\n",
    "model = Sequential(\n",
    "[\n",
    "    keras.Input((128,128,3)),\n",
    "    Conv2D(32, 5, activation='relu', padding = 'same'),\n",
    "    BatchNormalization(),\n",
    "    MaxPooling2D((2,2)),\n",
    "\n",
    "    Conv2D(32, 5, activation='relu', padding = 'same'),\n",
    "    BatchNormalization(),\n",
    "    MaxPooling2D((2,2)),\n",
    "    Dropout(0.5),\n",
    "\n",
    "    Conv2D(16, 5, activation='relu', padding = 'same'),\n",
    "    BatchNormalization(),\n",
    "    MaxPooling2D((2,2)),\n",
    "\n",
    "    Conv2D(8, 5, activation='relu', padding = 'same'),\n",
    "    BatchNormalization(),\n",
    "    MaxPooling2D((2,2)),\n",
    "    Dropout(0.5),\n",
    "\n",
    "    Conv2D(4, 5, activation='relu', padding = 'same'),\n",
    "    BatchNormalization(),\n",
    "    MaxPooling2D((2,2)),\n",
    "\n",
    "    Flatten(),\n",
    "    Dense(1, activation='sigmoid')\n",
    "]\n",
    ")\n",
    "optimizer = keras.optimizers.Adam()\n",
    "loss_fn = keras.losses.BinaryCrossentropy(from_logits=True) #from_logits=True means output probabilities are not normalized\n",
    "acc_metric = keras.metrics.BinaryAccuracy()\n",
    "val_acc_metric = keras.metrics.BinaryAccuracy()\n",
    "\n",
    "model.summary()\n",
    "model.load_weights('data_aug_off_model.h5')"
   ]
  },
  {
   "cell_type": "code",
   "execution_count": 25,
   "metadata": {},
   "outputs": [],
   "source": [
    "@tf.function\n",
    "def test_step(x, y):\n",
    "    val_preds = model(x, training=False)\n",
    "    loss = val_loss_fn(y, val_preds)\n",
    "    \n",
    "    # Update val metrics\n",
    "    val_acc_metric.update_state(y, val_preds)\n",
    "    return val_preds, loss"
   ]
  },
  {
   "cell_type": "code",
   "execution_count": 26,
   "metadata": {},
   "outputs": [
    {
     "name": "stdout",
     "output_type": "stream",
     "text": [
      "Test Accuracy for batch 16 is:  tf.Tensor(0.5992647, shape=(), dtype=float32)\n",
      "Test Accuracy for batch 32 is:  tf.Tensor(0.60795456, shape=(), dtype=float32)\n",
      "Test Accuracy for batch 48 is:  tf.Tensor(0.6186224, shape=(), dtype=float32)\n",
      "Test Accuracy for batch 64 is:  tf.Tensor(0.61538464, shape=(), dtype=float32)\n",
      "Test Accuracy for batch 80 is:  tf.Tensor(0.61882716, shape=(), dtype=float32)\n",
      "Test Accuracy for batch 96 is:  tf.Tensor(0.61018044, shape=(), dtype=float32)\n",
      "Test Accuracy for batch 112 is:  tf.Tensor(0.6050885, shape=(), dtype=float32)\n",
      "Test Accuracy for batch 128 is:  tf.Tensor(0.5993217, shape=(), dtype=float32)\n",
      "Test Accuracy for batch 144 is:  tf.Tensor(0.60431033, shape=(), dtype=float32)\n",
      "Test Accuracy for batch 160 is:  tf.Tensor(0.6086956, shape=(), dtype=float32)\n",
      "Test Accuracy for batch 176 is:  tf.Tensor(0.6108757, shape=(), dtype=float32)\n",
      "Test Accuracy for batch 192 is:  tf.Tensor(0.6088083, shape=(), dtype=float32)\n",
      "Test Accuracy for batch 208 is:  tf.Tensor(0.60855263, shape=(), dtype=float32)\n",
      "Test Accuracy for batch 224 is:  tf.Tensor(0.60805553, shape=(), dtype=float32)\n",
      "Test Accuracy for batch 240 is:  tf.Tensor(0.6109958, shape=(), dtype=float32)\n",
      "Test Accuracy for batch 256 is:  tf.Tensor(0.6089494, shape=(), dtype=float32)\n",
      "Test Accuracy for batch 272 is:  tf.Tensor(0.6062271, shape=(), dtype=float32)\n",
      "Test Accuracy for batch 288 is:  tf.Tensor(0.6079152, shape=(), dtype=float32)\n",
      "Test Accuracy for batch 304 is:  tf.Tensor(0.6061475, shape=(), dtype=float32)\n",
      "Test Accuracy for batch 320 is:  tf.Tensor(0.60786605, shape=(), dtype=float32)\n",
      "Test Accuracy for batch 336 is:  tf.Tensor(0.6073813, shape=(), dtype=float32)\n",
      "Test Accuracy for batch 352 is:  tf.Tensor(0.6097734, shape=(), dtype=float32)\n",
      "Test Accuracy for batch 368 is:  tf.Tensor(0.61009485, shape=(), dtype=float32)\n",
      "Test Accuracy for batch 384 is:  tf.Tensor(0.611039, shape=(), dtype=float32)\n",
      "Test Accuracy for batch 400 is:  tf.Tensor(0.611596, shape=(), dtype=float32)\n",
      "Test Accuracy for batch 416 is:  tf.Tensor(0.61106116, shape=(), dtype=float32)\n",
      "Test Accuracy for batch 432 is:  tf.Tensor(0.6104215, shape=(), dtype=float32)\n",
      "Test Accuracy for batch 448 is:  tf.Tensor(0.6092706, shape=(), dtype=float32)\n",
      "Test Accuracy for batch 464 is:  tf.Tensor(0.6077957, shape=(), dtype=float32)\n",
      "Test Accuracy for batch 480 is:  tf.Tensor(0.6081081, shape=(), dtype=float32)\n",
      "Test Accuracy for batch 496 is:  tf.Tensor(0.60739434, shape=(), dtype=float32)\n",
      "Test Accuracy for batch 512 is:  tf.Tensor(0.6072125, shape=(), dtype=float32)\n",
      "Test Accuracy for batch 528 is:  tf.Tensor(0.6070416, shape=(), dtype=float32)\n",
      "Test Accuracy for batch 544 is:  tf.Tensor(0.6063073, shape=(), dtype=float32)\n",
      "Test Accuracy for batch 560 is:  tf.Tensor(0.60583776, shape=(), dtype=float32)\n",
      "Test Accuracy for batch 576 is:  tf.Tensor(0.6072357, shape=(), dtype=float32)\n",
      "Test Accuracy for batch 592 is:  tf.Tensor(0.6084528, shape=(), dtype=float32)\n",
      "Test Accuracy for batch 608 is:  tf.Tensor(0.60714287, shape=(), dtype=float32)\n",
      "Test Accuracy for batch 624 is:  tf.Tensor(0.6084, shape=(), dtype=float32)\n",
      "Test Accuracy for batch 640 is:  tf.Tensor(0.60832685, shape=(), dtype=float32)\n",
      "Test Accuracy for batch 656 is:  tf.Tensor(0.6092085, shape=(), dtype=float32)\n"
     ]
    },
    {
     "ename": "KeyboardInterrupt",
     "evalue": "",
     "output_type": "error",
     "traceback": [
      "\u001b[1;31m---------------------------------------------------------------------------\u001b[0m",
      "\u001b[1;31mKeyboardInterrupt\u001b[0m                         Traceback (most recent call last)",
      "\u001b[1;32m<ipython-input-26-16233585b7af>\u001b[0m in \u001b[0;36m<module>\u001b[1;34m\u001b[0m\n\u001b[0;32m      4\u001b[0m \u001b[1;33m\u001b[0m\u001b[0m\n\u001b[0;32m      5\u001b[0m \u001b[1;32mfor\u001b[0m \u001b[0mval_batch_idx\u001b[0m \u001b[1;32min\u001b[0m \u001b[0mrange\u001b[0m\u001b[1;33m(\u001b[0m\u001b[0mtest_generator\u001b[0m\u001b[1;33m.\u001b[0m\u001b[0msamples\u001b[0m\u001b[1;33m//\u001b[0m\u001b[1;36m16\u001b[0m\u001b[1;33m)\u001b[0m\u001b[1;33m:\u001b[0m\u001b[1;33m\u001b[0m\u001b[1;33m\u001b[0m\u001b[0m\n\u001b[1;32m----> 6\u001b[1;33m     \u001b[0mrecent_test_batch\u001b[0m \u001b[1;33m=\u001b[0m \u001b[0mtest_generator\u001b[0m\u001b[1;33m.\u001b[0m\u001b[0mnext\u001b[0m\u001b[1;33m(\u001b[0m\u001b[1;33m)\u001b[0m\u001b[1;33m\u001b[0m\u001b[1;33m\u001b[0m\u001b[0m\n\u001b[0m\u001b[0;32m      7\u001b[0m     \u001b[0mx_test_batch\u001b[0m \u001b[1;33m=\u001b[0m \u001b[0mrecent_test_batch\u001b[0m\u001b[1;33m[\u001b[0m\u001b[1;36m0\u001b[0m\u001b[1;33m]\u001b[0m\u001b[1;33m\u001b[0m\u001b[1;33m\u001b[0m\u001b[0m\n\u001b[0;32m      8\u001b[0m     \u001b[0my_test_batch\u001b[0m \u001b[1;33m=\u001b[0m \u001b[0mrecent_test_batch\u001b[0m\u001b[1;33m[\u001b[0m\u001b[1;36m1\u001b[0m\u001b[1;33m]\u001b[0m\u001b[1;33m\u001b[0m\u001b[1;33m\u001b[0m\u001b[0m\n",
      "\u001b[1;32m~\\anaconda3\\lib\\site-packages\\keras_preprocessing\\image\\iterator.py\u001b[0m in \u001b[0;36mnext\u001b[1;34m(self)\u001b[0m\n\u001b[0;32m    114\u001b[0m         \u001b[1;31m# The transformation of images is not under thread lock\u001b[0m\u001b[1;33m\u001b[0m\u001b[1;33m\u001b[0m\u001b[1;33m\u001b[0m\u001b[0m\n\u001b[0;32m    115\u001b[0m         \u001b[1;31m# so it can be done in parallel\u001b[0m\u001b[1;33m\u001b[0m\u001b[1;33m\u001b[0m\u001b[1;33m\u001b[0m\u001b[0m\n\u001b[1;32m--> 116\u001b[1;33m         \u001b[1;32mreturn\u001b[0m \u001b[0mself\u001b[0m\u001b[1;33m.\u001b[0m\u001b[0m_get_batches_of_transformed_samples\u001b[0m\u001b[1;33m(\u001b[0m\u001b[0mindex_array\u001b[0m\u001b[1;33m)\u001b[0m\u001b[1;33m\u001b[0m\u001b[1;33m\u001b[0m\u001b[0m\n\u001b[0m\u001b[0;32m    117\u001b[0m \u001b[1;33m\u001b[0m\u001b[0m\n\u001b[0;32m    118\u001b[0m     \u001b[1;32mdef\u001b[0m \u001b[0m_get_batches_of_transformed_samples\u001b[0m\u001b[1;33m(\u001b[0m\u001b[0mself\u001b[0m\u001b[1;33m,\u001b[0m \u001b[0mindex_array\u001b[0m\u001b[1;33m)\u001b[0m\u001b[1;33m:\u001b[0m\u001b[1;33m\u001b[0m\u001b[1;33m\u001b[0m\u001b[0m\n",
      "\u001b[1;32m~\\anaconda3\\lib\\site-packages\\keras_preprocessing\\image\\iterator.py\u001b[0m in \u001b[0;36m_get_batches_of_transformed_samples\u001b[1;34m(self, index_array)\u001b[0m\n\u001b[0;32m    238\u001b[0m                 \u001b[0mx\u001b[0m \u001b[1;33m=\u001b[0m \u001b[0mself\u001b[0m\u001b[1;33m.\u001b[0m\u001b[0mimage_data_generator\u001b[0m\u001b[1;33m.\u001b[0m\u001b[0mapply_transform\u001b[0m\u001b[1;33m(\u001b[0m\u001b[0mx\u001b[0m\u001b[1;33m,\u001b[0m \u001b[0mparams\u001b[0m\u001b[1;33m)\u001b[0m\u001b[1;33m\u001b[0m\u001b[1;33m\u001b[0m\u001b[0m\n\u001b[0;32m    239\u001b[0m                 \u001b[0mx\u001b[0m \u001b[1;33m=\u001b[0m \u001b[0mself\u001b[0m\u001b[1;33m.\u001b[0m\u001b[0mimage_data_generator\u001b[0m\u001b[1;33m.\u001b[0m\u001b[0mstandardize\u001b[0m\u001b[1;33m(\u001b[0m\u001b[0mx\u001b[0m\u001b[1;33m)\u001b[0m\u001b[1;33m\u001b[0m\u001b[1;33m\u001b[0m\u001b[0m\n\u001b[1;32m--> 240\u001b[1;33m             \u001b[0mbatch_x\u001b[0m\u001b[1;33m[\u001b[0m\u001b[0mi\u001b[0m\u001b[1;33m]\u001b[0m \u001b[1;33m=\u001b[0m \u001b[0mx\u001b[0m\u001b[1;33m\u001b[0m\u001b[1;33m\u001b[0m\u001b[0m\n\u001b[0m\u001b[0;32m    241\u001b[0m         \u001b[1;31m# optionally save augmented images to disk for debugging purposes\u001b[0m\u001b[1;33m\u001b[0m\u001b[1;33m\u001b[0m\u001b[1;33m\u001b[0m\u001b[0m\n\u001b[0;32m    242\u001b[0m         \u001b[1;32mif\u001b[0m \u001b[0mself\u001b[0m\u001b[1;33m.\u001b[0m\u001b[0msave_to_dir\u001b[0m\u001b[1;33m:\u001b[0m\u001b[1;33m\u001b[0m\u001b[1;33m\u001b[0m\u001b[0m\n",
      "\u001b[1;31mKeyboardInterrupt\u001b[0m: "
     ]
    }
   ],
   "source": [
    "valid_writer = tf.summary.create_file_writer('logs/base_aug_off_test/test', max_queue = 10)\n",
    "\n",
    "total_valid_files = 0\n",
    "\n",
    "for val_batch_idx in range(test_generator.samples//16):\n",
    "    recent_test_batch = test_generator.next()\n",
    "    x_test_batch = recent_test_batch[0]\n",
    "    y_test_batch = recent_test_batch[1]\n",
    "\n",
    "    val_y_preds,val_loss = test_step(x_test_batch,y_test_batch)\n",
    "    val_y_pred = np.reshape(tf.get_static_value(val_y_preds),(1,16))[0]\n",
    "    test_accuracy = val_acc_metric.result()\n",
    "    if val_batch_idx%16 == 0 and val_batch_idx!=0:\n",
    "        with valid_writer.as_default():\n",
    "            tf.summary.scalar(\"test_accuracy\", test_accuracy, step = total_valid_files)\n",
    "        print(\"Test Accuracy for batch {} is: \".format(val_batch_idx), test_accuracy)\n",
    "        total_valid_files += 16"
   ]
  },
  {
   "cell_type": "code",
   "execution_count": null,
   "metadata": {},
   "outputs": [],
   "source": []
  }
 ],
 "metadata": {
  "kernelspec": {
   "display_name": "Python 3",
   "language": "python",
   "name": "python3"
  },
  "language_info": {
   "codemirror_mode": {
    "name": "ipython",
    "version": 3
   },
   "file_extension": ".py",
   "mimetype": "text/x-python",
   "name": "python",
   "nbconvert_exporter": "python",
   "pygments_lexer": "ipython3",
   "version": "3.8.5"
  }
 },
 "nbformat": 4,
 "nbformat_minor": 4
}
